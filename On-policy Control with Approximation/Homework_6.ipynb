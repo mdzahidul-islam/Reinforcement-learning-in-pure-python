{
 "cells": [
  {
   "cell_type": "markdown",
   "metadata": {
    "pycharm": {
     "name": "#%% md\n"
    }
   },
   "source": [
    "<center>\n",
    "Reinforcement Learning\n",
    "    \n",
    "# Homework 6 - On-policy Control with Approximation\n",
    "\n",
    "    \n",
    "</center>"
   ]
  },
  {
   "cell_type": "markdown",
   "metadata": {
    "pycharm": {
     "name": "#%% md\n"
    }
   },
   "source": [
    "**General Notes:**\n",
    "- Questions marked with * are optional for COMP4240 - Undergraduate section. Questions marked as extra credit are optional for everyone. \n",
    "- Do not use a mix of python lists and numpy arrays. Every vector or matrix in your code should be a numpy array. \n",
    "- For functions that exist in both the python core and the numpy library, use the one in the numpy library. For example, use `np.max` instead of `max`. Another example: use `np.random.normal` instead of `random.gauss`.\n",
    "- Make sure all of your plots have a proper size and include `xlabel`, `ylabel`, `legend`, `title`, and `grid`."
   ]
  },
  {
   "cell_type": "markdown",
   "metadata": {
    "pycharm": {
     "name": "#%% md\n"
    }
   },
   "source": [
    "The purpose of this project is to study different properties of Function Approximation with on-policy control methods.  "
   ]
  },
  {
   "cell_type": "code",
   "execution_count": 97,
   "metadata": {
    "pycharm": {
     "name": "#%%\n"
    }
   },
   "outputs": [],
   "source": [
    "# You are allowed to use the following modules\n",
    "import numpy as np\n",
    "import matplotlib.pyplot as plt\n",
    "import gym"
   ]
  },
  {
   "attachments": {
    "mc.png": {
     "image/png": "[encoded data removed]"
    }
   },
   "cell_type": "markdown",
   "metadata": {
    "pycharm": {
     "name": "#%% md\n"
    }
   },
   "source": [
    "## Task description\n",
    "Consider the task of driving an underpowered car up a steep mountain road, as suggested by the diagram in the upper left of the following figure. The difficulty is that gravity is stronger than the car's engine, and even at full throttle the car cannot accelerate up the steep slope. The only solution is to first move away from the goal and up the opposite slope on the left. Then by applying full throttle the car can build up enough inertia to carry it up the steep slope even though it is slowing down the whole way.\n",
    "\n",
    "\n",
    "![mc.png](attachment:mc.png)\n",
    "\n",
    "\n",
    "This is a continuous control task where things have to get worse in a sense (farther from the goal) before they can get better. \n",
    "\n",
    "**Observation space**\n",
    "\n",
    "The observation is two dimensional including the position of the car along the x-axis and velocity of the car.\n",
    "\n",
    "**Action space**\n",
    "\n",
    "There are three deterministic actions: 0 accelerate to the left, 1 do nothing, and 2 accelerate to the right.\n",
    "\n",
    "**Transition dynamics**\n",
    "\n",
    "The car moves according to a simplified physics. Its position $x_t$ and velocity $\\dot{x}_t$ are updated by\n",
    "\n",
    "$x_{t+1} \\doteq \\text{bound}[x_t + \\dot{x}_{t+1}]$\n",
    "\n",
    "$\\dot{x}_{t+1} \\doteq \\text{bound}[\\dot{x}_t + 0.001 (A_t-1) - 0.0025 \\cos(3x_t)]$\n",
    "\n",
    "\n",
    "where the \\textit{bound} operation enforces $-1.2 \\le x_{t+1} \\le 0.6$ and $-0.07 \\le \\dot{x}_{t+1} \\le 0.07$. In addition, when $x_{t+1}$ reached the left bound, $\\dot{x}_{t+1}$ was reset to zero. When it reached the right bound, the goal was reached and the episode was terminated. \n",
    "\n",
    "**Reward**\n",
    "\n",
    "The reward in this problem is -1 on all time steps until the car moves past its goal position at the top of the mountain, which ends the episode. \n",
    "\n",
    "**Initial State**\n",
    "\n",
    "Each episode starts from a random position $x_t \\in [-0.6, -0.4)$ and zero velocity.\n",
    "\n",
    "**Goal and Termination**\n",
    "\n",
    "The episode terminates when the position of the car is greater than or equal to 0.5 (the goal position on top of the right hill).\n",
    "\n",
    "**Arguments**\n",
    "\n",
    "> env = gym.make('MountainCar-v0')\n",
    "\n",
    "**Note**\n",
    "\n",
    "Do not use the Continuous Mountain Car environment for this homework.\n",
    "> gym.make('MountainCarContinuous-v0')\n"
   ]
  },
  {
   "cell_type": "markdown",
   "metadata": {
    "pycharm": {
     "name": "#%% md\n"
    }
   },
   "source": [
    "## Part I (4 points)\n",
    "\n",
    "Check and confirm that the given Mountain Car simulation works as expected. Make sure you can observe and log (if needed) all the observations, actions, rewards, and termination conditions. You can animate the simulation by adding `render_mode='human'` when calling the `gym.make` class.  \n"
   ]
  },
  {
   "cell_type": "code",
   "execution_count": null,
   "metadata": {
    "pycharm": {
     "is_executing": true,
     "name": "#%%\n"
    }
   },
   "outputs": [],
   "source": [
    "#--- Your code here ---\n",
    "env = gym.make('MountainCar-v0', render_mode=\"human\")\n",
    "observation, info = env.reset()\n",
    "print(f'observation: {observation}')\n",
    "terminated = False\n",
    "while not terminated:\n",
    "    action = np.random.randint(3)\n",
    "    observation, reward, terminated, truncated, info = env.step(action)\n",
    "env.reset()\n",
    "env.close()"
   ]
  },
  {
   "cell_type": "markdown",
   "metadata": {
    "pycharm": {
     "name": "#%% md\n"
    }
   },
   "source": [
    "## Part II (6 points)\n",
    "\n",
    "In this part, you will practice writing code for approximating the state value function. \n",
    "\n",
    "(a) write a function that generates Fourier basis features for a problem with one continuous state (1D state). The output of this function should be a vector of Fourier basis functions,\n",
    "$X(s) = [\\cos(0 * \\pi * s), ..., \\cos(n * \\pi * s)]$ where $n$ represents the approximation order.\n",
    "\n",
    "(b) Write a function that given a state $S$ and a weight vector $w$ calculates $V(S, w)$ by multiplying $w$ and $X(S)$. Make sure this is a vector-vector multiplication and avoid using for loops. Test your function with different values of $w$ and $S$. \n",
    "\n",
    "(c) Does $S$ need to be bounded? If yes, how would you do that?\n",
    "\n"
   ]
  },
  {
   "cell_type": "code",
   "execution_count": 1,
   "metadata": {
    "pycharm": {
     "name": "#%%\n"
    }
   },
   "outputs": [],
   "source": [
    "#--- Your code here ---\n",
    "# Question II(a)\n",
    "def fourier_1d(n,s):\n",
    "    s = normalize(state=s)\n",
    "    X = np.zeros(n+1)\n",
    "    for i in range(n+1):\n",
    "        X[i,1] = np.cos(i*np.pi*s)\n",
    "    return X\n",
    "# Question II(b)\n",
    "def value_sw(s,w):\n",
    "    V = np.zeros()\n",
    "    V = np.matmul(np.transpose(w),fourier_1d(n,s))\n",
    "# Question II(c)\n",
    "def normalize(state):\n",
    "    state = (state-min_state)/(max_state-min_state)\n",
    "    return state"
   ]
  },
  {
   "cell_type": "markdown",
   "metadata": {
    "collapsed": false,
    "pycharm": {
     "name": "#%% md\n"
    }
   },
   "source": [
    "# II (c)\n",
    "S needs to be bounded in the range of [0,1]. The normalization is performed by max_min_normalization method, as shown in the answer above."
   ]
  },
  {
   "cell_type": "markdown",
   "metadata": {
    "pycharm": {
     "name": "#%% md\n"
    }
   },
   "source": [
    "## Part III (40 points)\n",
    "\n",
    "Implement the **Episodic Semi-gradient SARSA** (pp. 244)."
   ]
  },
  {
   "cell_type": "code",
   "execution_count": 89,
   "metadata": {
    "collapsed": false,
    "pycharm": {
     "name": "#%%\n"
    }
   },
   "outputs": [],
   "source": [
    "# semi-gradient SARSA\n",
    "class SemiSarsa:\n",
    "\n",
    "    def __init__(self,n, gamma, alpha, epsilon):\n",
    "        self.episode_step = None\n",
    "        self.episode_reward = None\n",
    "        self.gamma = gamma\n",
    "        self.alpha = alpha\n",
    "        self.epsilon = epsilon\n",
    "        self.n = n\n",
    "        self.feature_space = (self.n + 1)**2\n",
    "        self.w = {}\n",
    "        self.env = gym.make('MountainCar-v0')\n",
    "        self.action_space = self.env.action_space.n\n",
    "\n",
    "    def initialize(self):\n",
    "        for i in range(self.action_space):\n",
    "            self.w[i] = np.zeros((1, self.feature_space))\n",
    "\n",
    "    def state_normalize(self,state):\n",
    "         state = (state - self.env.observation_space.low) / (self.env.observation_space.high - self.env.observation_space.low)\n",
    "         return state\n",
    "\n",
    "    def fourier_2d(self,s):\n",
    "        coeff = np.array([[i,j] for i in range(self.n+1) for j in range(self.n+1)])\n",
    "        self.x = np.cos(np.pi*np.matmul(s,coeff.transpose()))\n",
    "        return self.x\n",
    "\n",
    "    def argmax_q(self,S):\n",
    "        max_q = []\n",
    "        for i in range(self.action_space):\n",
    "            max_q.append(self.calculate_q(S,i))\n",
    "        if np.random.rand(1) >= self.epsilon:\n",
    "            return np.argmax(max_q)\n",
    "        else:\n",
    "            return np.random.choice(self.action_space,1)[0]\n",
    "\n",
    "    def calculate_q(self,S,A):\n",
    "        return np.matmul(self.w[A], self.fourier_2d(S))\n",
    "\n",
    "    def semi_sarsa(self,episodes, runs):\n",
    "        self.episode_reward = np.zeros((runs, episodes))\n",
    "        self.episode_step = np.zeros((runs, episodes))\n",
    "        for run in range(runs):\n",
    "            self.initialize()\n",
    "            for episode in range(episodes):\n",
    "                if (run == runs-1) and (episode == episodes-1):\n",
    "                    self.env = gym.make('MountainCar-v0', render_mode=\"human\")\n",
    "                S, info = self.env.reset()\n",
    "                S = self.state_normalize(S)\n",
    "                A = self.argmax_q(S)\n",
    "                self.step = 0\n",
    "                self.rew = 0\n",
    "                while True:\n",
    "                    S_next, reward, terminated, truncated, info = self.env.step(A)\n",
    "                    S_next = self.state_normalize(S_next)\n",
    "                    if terminated:\n",
    "                        self.w[A] += self.alpha * (reward - self.calculate_q(S,A)) * self.fourier_2d(S)\n",
    "                        break\n",
    "                    A_next = self.argmax_q(S_next)\n",
    "                    coeff = reward + self.gamma * self.calculate_q(S_next, A_next) - self.calculate_q(S, A)\n",
    "                    self.w[A] += self.alpha*coeff * self.fourier_2d(S)\n",
    "                    S = S_next\n",
    "                    A = A_next\n",
    "                    self.step += 1\n",
    "                    self.rew += reward\n",
    "                self.episode_reward[run, episode] = self.rew\n",
    "                self.episode_step[run, episode] = self.step\n",
    "\n",
    "    def get_weights(self):\n",
    "        return self.w\n",
    "\n",
    "    def reward_plot(self):\n",
    "        plt.figure(1, (10, 6))\n",
    "        plt.plot(range(len(self.episode_reward[0, :])), np.mean(self.episode_reward, 0))\n",
    "        plt.xlabel('Episodes')\n",
    "        plt.ylabel('Sum of rewards during episode')\n",
    "        # plt.ylim([-300,20])\n",
    "        plt.legend()\n",
    "        plt.grid()\n",
    "        plt.show()\n",
    "\n",
    "    def step_plot(self):\n",
    "        plt.figure(2, (10, 6))\n",
    "        plt.plot(range(len(self.episode_step[0, :])), np.log10(np.mean(self.episode_step, 0)))\n",
    "        plt.xlabel('Episodes')\n",
    "        plt.ylabel('steps during episode')\n",
    "        # plt.ylim([-200,10])\n",
    "        plt.legend()\n",
    "        plt.grid()\n",
    "        plt.show()"
   ]
  },
  {
   "cell_type": "markdown",
   "metadata": {
    "pycharm": {
     "name": "#%% md\n"
    }
   },
   "source": [
    "## Part IV (50 points) \n",
    "\n",
    "(a) Use the algorithm to learn the Mountain Car task. Tune the step-size parameter ($\\alpha$), select a proper Function Approximation order, discount factor ($\\gamma$), exploration probability ($\\varepsilon$). \n",
    "\n",
    "\n",
    "(b) Plot sum of reward-per-episode vs. number of episodes. This plot should be averaged over 50-100 runs.\n",
    "\n",
    "\n",
    "(c) Plot step-per-episode (in log scale) vs. number of episodes. This plot should be averaged over 50-100 runs.\n",
    "\n",
    "(d) Animate the last episode in a selected run. Does the approximated policy seem optimal? Why?"
   ]
  },
  {
   "cell_type": "code",
   "execution_count": 90,
   "metadata": {
    "pycharm": {
     "name": "#%%\n"
    }
   },
   "outputs": [
    {
     "name": "stderr",
     "output_type": "stream",
     "text": [
      "No artists with labels found to put in legend.  Note that artists whose label start with an underscore are ignored when legend() is called with no argument.\n"
     ]
    },
    {
     "data": {
      "image/png": "[encoded data removed]",
      "text/plain": [
       "<Figure size 720x432 with 1 Axes>"
      ]
     },
     "metadata": {
      "needs_background": "light"
     },
     "output_type": "display_data"
    },
    {
     "name": "stderr",
     "output_type": "stream",
     "text": [
      "No artists with labels found to put in legend.  Note that artists whose label start with an underscore are ignored when legend() is called with no argument.\n"
     ]
    },
    {
     "data": {
      "image/png": "[encoded data removed]",
      "text/plain": [
       "<Figure size 720x432 with 1 Axes>"
      ]
     },
     "metadata": {
      "needs_background": "light"
     },
     "output_type": "display_data"
    }
   ],
   "source": [
    "# Your code here\n",
    "sarsa_instance = SemiSarsa(n=3,gamma=1,alpha=.01,epsilon=0.1)\n",
    "sarsa_instance.semi_sarsa(100,60)\n",
    "\n",
    "sarsa_instance.reward_plot()\n",
    "sarsa_instance.step_plot()"
   ]
  },
  {
   "cell_type": "markdown",
   "metadata": {
    "collapsed": false,
    "pycharm": {
     "name": "#%% md\n"
    }
   },
   "source": [
    "**Part IV (d)**\n",
    "> Answer: The approximated policy is optimal because the car moves back and forth minimal time to accelerate enough to reach the goal."
   ]
  },
  {
   "cell_type": "markdown",
   "metadata": {
    "pycharm": {
     "name": "#%% md\n"
    }
   },
   "source": [
    "## Part V (Extra Points)\n",
    "\n",
    "(a) Implement the **Episodic Semi-gradient $n$-step SARSA** (pp. 247)."
   ]
  },
  {
   "cell_type": "code",
   "execution_count": 177,
   "metadata": {
    "pycharm": {
     "name": "#%%\n"
    }
   },
   "outputs": [],
   "source": [
    "# Your code here\n",
    "# semi-gradient n-step SARSA\n",
    "import gym\n",
    "class NstepSarsa:\n",
    "\n",
    "    def __init__(self,n_fourier, gamma, alpha, epsilon):\n",
    "        self.terminal_state = None\n",
    "        self.terminated = None\n",
    "        self.episode_step = None\n",
    "        self.episode_reward = None\n",
    "        self.gamma = gamma\n",
    "        self.alpha = alpha\n",
    "        self.epsilon = epsilon\n",
    "        self.n_fourier = n_fourier\n",
    "        self.feature_space = (n_fourier + 1)**2\n",
    "        self.w = {}\n",
    "        self.env = gym.make('MountainCar-v0')\n",
    "        self.action_space = self.env.action_space.n\n",
    "        # self.coeff = np.array([[i,j] for i in range(n_fourier+1) for j in range(n_fourier+1)])\n",
    "\n",
    "    def initialize(self):\n",
    "        for i in range(self.action_space):\n",
    "            self.w[i] = np.zeros((1, self.feature_space))\n",
    "\n",
    "    def state_normalize(self,state):\n",
    "        state = (state - self.env.observation_space.low) / (self.env.observation_space.high - self.env.observation_space.low)\n",
    "        return state\n",
    "\n",
    "    def fourier_2d(self,s):\n",
    "        coeff = np.array([[i,j] for i in range(self.n_fourier+1) for j in range(self.n_fourier+1)])\n",
    "\n",
    "        self.x = np.cos(np.pi*np.matmul(self.state_normalize(s),coeff.transpose()))\n",
    "        return self.x\n",
    "\n",
    "    def argmax_q(self,S):\n",
    "        max_q = []\n",
    "        for i in range(self.action_space):\n",
    "            max_q.append(self.calculate_q(S,i))\n",
    "        if np.random.rand(1) > self.epsilon:\n",
    "            return np.argmax(max_q)\n",
    "        else:\n",
    "            return np.random.choice(self.action_space,1)[0]\n",
    "\n",
    "    def calculate_q(self,S,A):\n",
    "        if S[0] >= 0.5: # this ensures Q is zero for terminal state\n",
    "            return 0\n",
    "        else:\n",
    "            return np.matmul(self.w[A], self.fourier_2d(S))\n",
    "\n",
    "    def nstep_sarsa(self,episodes, runs, n_step):\n",
    "        n = n_step\n",
    "        self.episode_reward = np.zeros((runs, episodes))\n",
    "        self.episode_step = np.zeros((runs, episodes))\n",
    "        for run in range(runs):\n",
    "            self.initialize()\n",
    "            self.env.reset()\n",
    "            for episode in range(episodes):\n",
    "                if (run == runs-1) and (episode == episodes-1):\n",
    "                    self.env = gym.make('MountainCar-v0', render_mode=\"human\")\n",
    "                S, info = self.env.reset()\n",
    "                A = self.argmax_q(S)\n",
    "                T = np.inf\n",
    "                actions = [A]\n",
    "                states = [S]\n",
    "                rewards = [0]\n",
    "                t = 0\n",
    "                self.step = 0\n",
    "                self.rew = 0\n",
    "                while True:\n",
    "                    if t < T:\n",
    "                        S_next, reward, self.terminated, truncated, info = self.env.step(A)\n",
    "                        rewards.append(reward)\n",
    "                        states.append(S_next)\n",
    "                        if self.terminated:\n",
    "                            T = t + 1\n",
    "                        else:\n",
    "                            A_next = self.argmax_q(S_next)\n",
    "                            actions.append(A_next)\n",
    "                    tao = t - n + 1\n",
    "                    if tao >= 0:\n",
    "                        G = 0\n",
    "                        for i in np.arange(tao + 1, np.minimum(tao + n + 1, T + 1)):\n",
    "                            G += np.power(self.gamma, i - tao - 1) * rewards[int(i)]\n",
    "                        if tao + n < T:\n",
    "                            G += np.power(self.gamma, n) * self.calculate_q(states[tao + n],actions[tao + n])\n",
    "                        self.w[actions[tao]] += self.alpha * (G - self.calculate_q(states[tao],actions[tao]))* self.fourier_2d(states[tao])\n",
    "                    if tao == T - 1:\n",
    "                        break\n",
    "                    t += 1\n",
    "                    if t%100000==0:\n",
    "                        print(self.w)\n",
    "                    #     print(states)\n",
    "\n",
    "                self.episode_reward[run, episode] = np.sum(rewards.copy())\n",
    "                self.episode_step[run, episode] = t\n",
    "\n",
    "    def get_weights(self):\n",
    "        return self.w\n",
    "\n",
    "    def reward_plot(self):\n",
    "        plt.figure(1, (10, 6))\n",
    "        plt.plot(range(len(self.episode_reward[0, :])), np.mean(self.episode_reward, 0))\n",
    "        plt.xlabel('Episodes')\n",
    "        plt.ylabel('Sum of rewards during episode')\n",
    "        # plt.ylim([-300,20])\n",
    "        plt.legend()\n",
    "        plt.grid()\n",
    "        plt.show()\n",
    "\n",
    "    def step_plot(self):\n",
    "        plt.figure(2, (10, 6))\n",
    "        plt.plot(range(len(self.episode_step[0, :])), np.log10(np.mean(self.episode_step, 0)))\n",
    "        plt.xlabel('Episodes')\n",
    "        plt.ylabel('steps during episode')\n",
    "        # plt.ylim([-200,10])\n",
    "        plt.legend()\n",
    "        plt.grid()\n",
    "        plt.show()"
   ]
  },
  {
   "cell_type": "markdown",
   "metadata": {
    "collapsed": false,
    "pycharm": {
     "name": "#%% md\n"
    }
   },
   "source": []
  },
  {
   "cell_type": "markdown",
   "metadata": {
    "pycharm": {
     "name": "#%% md\n"
    }
   },
   "source": [
    "(b) Use the algorithm to learn the Mountain Car task with $n \\in \\{1, 8, 16\\}$. Tune the step-size parameter ($\\alpha$), select a proper Function Approximation order, discount factor ($\\gamma$), exploration probability ($\\varepsilon$). Plot step-per-episode (in log scale) vs. number of episodes. This plot should be averaged over 50-100 runs.    "
   ]
  },
  {
   "cell_type": "code",
   "execution_count": null,
   "metadata": {
    "pycharm": {
     "is_executing": true,
     "name": "#%%\n"
    }
   },
   "outputs": [],
   "source": [
    "# Your code here\n",
    "instance_nstep = NstepSarsa(n_fourier=3,gamma=.9999,alpha=0.05,epsilon=0.1)\n",
    "instance_nstep.nstep_sarsa(2,1,8)\n",
    "instance_nstep.step_plot()"
   ]
  }
 ],
 "metadata": {
  "kernelspec": {
   "display_name": "Python 3.10.4 64-bit",
   "language": "python",
   "name": "python3"
  },
  "language_info": {
   "codemirror_mode": {
    "name": "ipython",
    "version": 3
   },
   "file_extension": ".py",
   "mimetype": "text/x-python",
   "name": "python",
   "nbconvert_exporter": "python",
   "pygments_lexer": "ipython3",
   "version": "3.10.4"
  },
  "vscode": {
   "interpreter": {
    "hash": "9db33ea9fa7b2c650cb0566c85cffe253d425b7cca18759b45c6b5f450d97eb4"
   }
  }
 },
 "nbformat": 4,
 "nbformat_minor": 4
}
